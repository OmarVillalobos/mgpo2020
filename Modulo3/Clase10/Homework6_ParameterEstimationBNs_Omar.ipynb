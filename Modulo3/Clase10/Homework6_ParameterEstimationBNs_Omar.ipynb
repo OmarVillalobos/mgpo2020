{
 "cells": [
  {
   "cell_type": "markdown",
   "metadata": {},
   "source": [
    "# Parameter Estimation in Bayesian Networks\n",
    "\n",
    "<img style=\"float: right; margin: 0px 0px 15px 15px;\" src=\"https://upload.wikimedia.org/wikipedia/commons/d/d5/Hey_Machine_Learning_Logo.png\" width=\"400px\" height=\"400px\" />\n",
    "\n",
    "> In the sixth and last homework you will obtain some formulas for parameter estimation we used in class.\n",
    "\n",
    "> Develop the demonstrations in $\\LaTeX$, and please, be as clear as possible.\n",
    "\n",
    "> If further questions arise, please use the slack channel, or write me to esjimenezro@iteso.mx.\n",
    "\n",
    "\n",
    "<p style=\"text-align:right;\"> Imagen recuperada de: https://upload.wikimedia.org/wikipedia/commons/d/d5/Hey_Machine_Learning_Logo.png.</p>\n",
    "\n",
    "___"
   ]
  },
  {
   "cell_type": "markdown",
   "metadata": {},
   "source": [
    "# 1. MLE of probabilities in multinomial distribution\n",
    "\n",
    "In this case we have:\n",
    "\n",
    "- Random variable $X$ with $\\mathrm{Val}(X)=\\{x^1, \\dots, x^{k}\\}$.\n",
    "\n",
    "- $P(X=x^i)=\\theta_i$ for $i\\in\\{1,\\dots,k\\}$.\n",
    "\n",
    "- $\\sum_{i=1}^{k}\\theta_i=1$."
   ]
  },
  {
   "cell_type": "markdown",
   "metadata": {},
   "source": [
    "We assume that the data instances \n",
    "\n",
    "$$\\mathcal{D} = \\{x[1], \\dots, x[M]\\}$$\n",
    "\n",
    "are independently draw from this distribution, and are such that:\n",
    "\n",
    "- $x^1$ appears $M_1$ times,\n",
    "- ...,\n",
    "- $x^i$ appears $M_i$ times,\n",
    "- ...,\n",
    "- $x^k$ appears $M_k$ times.\n",
    "\n",
    "with $M=\\sum_{j=1}^{k}M_j$."
   ]
  },
  {
   "cell_type": "markdown",
   "metadata": {},
   "source": [
    "Show that the maximum likelihood estimator (MLE) of $\\theta_i$ is:\n",
    "\n",
    "$$\\hat{\\theta_i} = \\frac{M_i}{\\sum_{j=1}^{k} M_j} = \\frac{M_i}{M},$$\n",
    "\n",
    "this is, the fraction of times $x^i$ appears in the data.\n",
    "\n",
    "*Hint. Use a KKT conditions to enforce the constraint* $\\sum_{i=1}^{k}\\theta_i=1$, *or replace the condition from the beginning in the log-likelihood.*"
   ]
  },
  {
   "cell_type": "markdown",
   "metadata": {},
   "source": [
    "### 1 PROOF"
   ]
  },
  {
   "cell_type": "markdown",
   "metadata": {},
   "source": [
    "$$\n",
    "f\\left(M_{1}, \\ldots, M_{n} \\mid \\theta_{1}, \\ldots, \\theta_{k}\\right)=\\frac{n !}{\\prod_{j=1}^{k} M_{i} !} \\prod_{j=1}^{k} \\theta_{j}^{M_{j}}\n",
    "$$\n",
    "\n",
    "$$  L(\\mathbf{\\theta})= \\left(n ! \\prod_{i=1}^{k} \\frac{\\theta_{i}^{M_{i}}}{M_{i} !}\\right) $$\n",
    "\n",
    "$$\n",
    "l(\\mathbf{\\theta})=\\log L(\\mathbf{\\theta})=\\log \\left(n ! \\prod_{i=1}^{k} \\frac{\\theta_{i}^{M_{i}}}{M_{i} !}\\right)\n",
    "$$\n",
    "\n",
    "$$\n",
    "\\log L(\\mathbf{\\theta})=\\log n !+\\sum_{i=1}^{k} M_{i} \\log \\theta_{i}-\\sum_{i=1}^{k} \\log M_{i} !\n",
    "$$\n",
    "\n",
    "if $M=\\sum_{j=1}^{k}M_j$.\n",
    "\n",
    "$$\n",
    "l^{\\prime}(\\mathbf{\\theta}, \\lambda)=l(\\mathbf{\\theta})+\\lambda\\left(1-\\sum_{i=1}^{m} \\theta_{i}\\right)\n",
    "$$\n",
    "\n",
    "$$\n",
    "\\frac{\\partial}{\\partial \\theta_{i}} l^{\\prime}(\\mathbf{\\theta}, \\lambda)=\\frac{\\partial}{\\partial \\theta_{i}} l(\\mathbf{\\theta})+\\frac{\\partial}{\\partial \\theta_{i}} \\lambda\\left(1-\\sum_{i=1}^{m} \\theta_{i}\\right)=0\n",
    "$$\n",
    "\n",
    "$$\n",
    "\\frac{\\partial}{\\partial \\theta_{i}} \\sum_{i=1}^{m} M_{i} \\log \\theta_{i}-\\lambda \\frac{\\partial}{\\partial \\theta_{i}} \\sum_{i=1}^{m} \\theta_{i}=0\n",
    "$$\n",
    "\n",
    "$$ \\frac{M_i}{\\theta_i} - \\lambda = 0 $$\n",
    "\n",
    "$$ \\theta_i = \\frac{M_i}{\\lambda}$$\n",
    "\n",
    "Assuming: \n",
    "$$ \\sum_{i=1}^{m} \\theta_i = \\sum_{i=1}^{m} \\frac{M_i}{\\lambda}$$\n",
    "\n",
    "$$ 1 = \\frac{1}{\\lambda} \\sum_{i=1}^{m} M_i $$\n",
    "\n",
    "$$ \\lambda = M $$\n",
    "\n",
    "$$ \\theta_i = \\frac{M_i}{M} $$"
   ]
  },
  {
   "cell_type": "markdown",
   "metadata": {},
   "source": []
  },
  {
   "cell_type": "markdown",
   "metadata": {},
   "source": []
  },
  {
   "cell_type": "markdown",
   "metadata": {},
   "source": []
  },
  {
   "cell_type": "markdown",
   "metadata": {},
   "source": []
  },
  {
   "cell_type": "markdown",
   "metadata": {},
   "source": [
    "# 2. MLE of parameters in a Gaussian distribution"
   ]
  },
  {
   "cell_type": "markdown",
   "metadata": {},
   "source": [
    "In this case we have:\n",
    "\n",
    "- Random variable $X \\sim \\mathcal{N}(\\mu, \\sigma^2)$.\n",
    "\n",
    "- $p(x;\\mu,\\sigma^2)=\\frac{1}{\\sqrt{2 \\pi}} \\exp\\left(-\\frac{(x-\\mu)^2}{2\\sigma^2}\\right)$."
   ]
  },
  {
   "cell_type": "markdown",
   "metadata": {},
   "source": [
    "We assume that the data instances \n",
    "\n",
    "$$\\mathcal{D} = \\{x[1], \\dots, x[M]\\}$$\n",
    "\n",
    "are independently drawn from this distribution."
   ]
  },
  {
   "cell_type": "markdown",
   "metadata": {},
   "source": [
    "Show that the MLE estimators of $\\mu$ and $\\sigma$ are:\n",
    "\n",
    "$$\\hat{\\mu} = \\frac{1}{M} \\sum_{j=1}^{M}x[j] \\qquad \\text{and} \\qquad \\hat{\\sigma}=\\sqrt{\\frac{1}{M}\\sum_{j=1}^{M}(x[j]-\\hat{\\mu})^2}.$$"
   ]
  },
  {
   "cell_type": "markdown",
   "metadata": {},
   "source": [
    "### 2 PROOF"
   ]
  },
  {
   "cell_type": "markdown",
   "metadata": {},
   "source": [
    "$p(x;\\mu,\\sigma^2)=\\frac{1}{\\sqrt{2 \\pi}} \\exp\\left(-\\frac{(x-\\mu)^2}{2\\sigma^2}\\right)$.\n",
    "\n",
    "- $\\ell(x;\\mu,\\sigma^2) = \\prod_{j=1}^{M} f(x;\\mu,\\sigma^2)$\n",
    "- $\\ell(x;\\mu,\\sigma^2) = \\prod_{j=1}^{M}\\frac{1}{\\sqrt{2 \\pi}} \\exp\\left(-\\frac{(x-\\mu)^2}{2\\sigma^2}\\right)$\n",
    "- $\\ell(x;\\mu,\\sigma^2) = (\\frac{1}{\\sigma\\sqrt{2 \\pi}})^M \\exp\\left(-\\frac{1}{2\\sigma^2}\\sum_{j=1}^{M}(x_j-\\mu)^2\\right)$\n",
    "- $\\ell(x;\\mu,\\sigma^2) = \\ln(\\frac{1}{\\sigma\\sqrt{2 \\pi}})^M + \\ln\\exp\\left(-\\frac{1}{2\\sigma^2}\\sum_{j=1}^{M}(x_j-\\mu)^2\\right)$\n",
    "- $\\ell(x;\\mu,\\sigma^2) = M\\ln(1)-M\\ln(\\sigma\\sqrt{2 \\pi})-\\frac{1}{2\\sigma^2}\\sum_{j=1}^{M}(x_j-\\mu)^2$\n",
    "- $\\ell(x;\\mu,\\sigma^2) = -M\\ln(\\sigma\\sqrt{2 \\pi})-\\frac{1}{2\\sigma^2}\\sum_{j=1}^{M}(x_j-\\mu)^2$\n",
    "\n",
    "Derivatives\n",
    "\n",
    "First derivative respect to $\\mu$:\n",
    "\n",
    "- $\\frac{\\partial \\ell}{\\partial\\mu} =  -\\frac{1}{2\\sigma^2}\\sum_{j=1}^{M}(x_j-\\mu)^2$ \n",
    "- $\\frac{\\partial \\ell}{\\partial\\mu} =  -\\frac{2}{2\\sigma^2}\\sum_{j=1}^{M}(x_j-\\mu)(-1)$ \n",
    "\n",
    "- $ 0 = \\frac{1}{\\sigma^2}\\sum_{j=1}^{M}(x_j-\\mu) $ \n",
    "- $ 0 = \\frac{1}{\\sigma^2}\\sum_{j=1}^{M}(x_j)-\\frac{1}{\\sigma^2}\\sum_{j=1}^{M}\\mu)$ \n",
    "- $ \\frac{1}{\\sigma^2}\\sum_{j=1}^{M}(x_j)=\\frac{1}{\\sigma^2}\\sum_{j=1}^{M}\\mu)$ \n",
    "- $ \\frac{1}{\\sigma^2}\\sum_{j=1}^{M}(x_j)=\\frac{M\\mu}{\\sigma^2}$ \n",
    "- $ \\sigma^2\\frac{1}{\\sigma^2}\\sum_{j=1}^{M}(x_j)=M\\mu$ \n",
    "- $\\mu = \\frac{1}{M}\\sum_{j=1}^{M}x_j$\n",
    "\n",
    "Second derivative respect to $\\sigma^2$:\n",
    "\n",
    "- $ \\frac{\\partial \\ell}{\\partial\\sigma^2} =  -\\frac{M}{\\sigma}+ \\frac{1}{\\sigma^3}\\sum_{j=1}^{M}(x_j-\\mu)^2$ \n",
    "- $ 0 =  [-\\frac{M}{\\sigma}+ \\frac{1}{\\sigma^3}\\sum_{j=1}^{M}(x_j-\\mu)^2] \\frac{1}{M}$\n",
    "- $ \\frac{1}{\\sigma} = \\frac{1}{\\sigma^3}\\sum_{j=1}^{M}(x_j-\\mu)^2\\frac{1}{M}$\n",
    "- $ \\sigma^2 = \\frac{1}{M}\\sum_{j=1}^{M}(x_j-\\mu)^2$\n",
    "- $ \\sigma = \\sqrt{\\frac{1}{M}\\sum_{j=1}^{M}(x_j-\\mu)^2}$"
   ]
  },
  {
   "cell_type": "markdown",
   "metadata": {},
   "source": []
  },
  {
   "cell_type": "markdown",
   "metadata": {},
   "source": []
  },
  {
   "cell_type": "markdown",
   "metadata": {},
   "source": [
    "# 3. MLE and Bayesian estimation in a BN"
   ]
  },
  {
   "cell_type": "markdown",
   "metadata": {},
   "source": [
    "The file `flower_model_samples.csv` contains samples from the flower model below:"
   ]
  },
  {
   "cell_type": "code",
   "execution_count": 42,
   "metadata": {},
   "outputs": [],
   "source": [
    "import pandas as pd\n",
    "from IPython.display import Image\n",
    "from pgmpy.models import BayesianModel\n",
    "from pgmpy.factors.discrete import TabularCPD\n",
    "from pgmpy.estimators import BayesianEstimator\n",
    "from sklearn.metrics import classification_report\n",
    "from sklearn.model_selection import train_test_split\n",
    "from pgmpy.estimators import MaximumLikelihoodEstimator"
   ]
  },
  {
   "cell_type": "markdown",
   "metadata": {},
   "source": [
    "1. Estimate the parameters of the model using the MLE estimator."
   ]
  },
  {
   "cell_type": "code",
   "execution_count": 6,
   "metadata": {},
   "outputs": [
    {
     "data": {
      "text/html": [
       "<div>\n",
       "<style scoped>\n",
       "    .dataframe tbody tr th:only-of-type {\n",
       "        vertical-align: middle;\n",
       "    }\n",
       "\n",
       "    .dataframe tbody tr th {\n",
       "        vertical-align: top;\n",
       "    }\n",
       "\n",
       "    .dataframe thead th {\n",
       "        text-align: right;\n",
       "    }\n",
       "</style>\n",
       "<table border=\"1\" class=\"dataframe\">\n",
       "  <thead>\n",
       "    <tr style=\"text-align: right;\">\n",
       "      <th></th>\n",
       "      <th>T</th>\n",
       "      <th>L</th>\n",
       "      <th>W</th>\n",
       "    </tr>\n",
       "  </thead>\n",
       "  <tbody>\n",
       "    <tr>\n",
       "      <th>0</th>\n",
       "      <td>1</td>\n",
       "      <td>2</td>\n",
       "      <td>1</td>\n",
       "    </tr>\n",
       "    <tr>\n",
       "      <th>1</th>\n",
       "      <td>2</td>\n",
       "      <td>2</td>\n",
       "      <td>1</td>\n",
       "    </tr>\n",
       "    <tr>\n",
       "      <th>2</th>\n",
       "      <td>2</td>\n",
       "      <td>2</td>\n",
       "      <td>0</td>\n",
       "    </tr>\n",
       "    <tr>\n",
       "      <th>3</th>\n",
       "      <td>2</td>\n",
       "      <td>1</td>\n",
       "      <td>1</td>\n",
       "    </tr>\n",
       "    <tr>\n",
       "      <th>4</th>\n",
       "      <td>0</td>\n",
       "      <td>1</td>\n",
       "      <td>1</td>\n",
       "    </tr>\n",
       "  </tbody>\n",
       "</table>\n",
       "</div>"
      ],
      "text/plain": [
       "   T  L  W\n",
       "0  1  2  1\n",
       "1  2  2  1\n",
       "2  2  2  0\n",
       "3  2  1  1\n",
       "4  0  1  1"
      ]
     },
     "execution_count": 6,
     "metadata": {},
     "output_type": "execute_result"
    }
   ],
   "source": [
    "df = pd.read_csv('~/Downloads/flower_model_samples.csv')\n",
    "df.head()"
   ]
  },
  {
   "cell_type": "code",
   "execution_count": 27,
   "metadata": {},
   "outputs": [],
   "source": [
    "model = BayesianModel([('T','W'),('T','L')])\n",
    "model.fit(data=df, estimator=MaximumLikelihoodEstimator)"
   ]
  },
  {
   "cell_type": "code",
   "execution_count": 8,
   "metadata": {},
   "outputs": [
    {
     "name": "stdout",
     "output_type": "stream",
     "text": [
      "+------+---------------------+--------------------+---------------------+\n",
      "| T    | T(0)                | T(1)               | T(2)                |\n",
      "+------+---------------------+--------------------+---------------------+\n",
      "| W(0) | 0.02362876916979176 | 0.7061120244246125 | 0.42644174185955275 |\n",
      "+------+---------------------+--------------------+---------------------+\n",
      "| W(1) | 0.8765816030976554  | 0.2938879755753875 | 0.5735582581404473  |\n",
      "+------+---------------------+--------------------+---------------------+\n",
      "| W(2) | 0.09978962773255282 | 0.0                | 0.0                 |\n",
      "+------+---------------------+--------------------+---------------------+\n"
     ]
    }
   ],
   "source": [
    "print(model.get_cpds('W'))"
   ]
  },
  {
   "cell_type": "code",
   "execution_count": 9,
   "metadata": {},
   "outputs": [
    {
     "name": "stdout",
     "output_type": "stream",
     "text": [
      "+------+---------------------+----------------------+----------------------+\n",
      "| T    | T(0)                | T(1)                 | T(2)                 |\n",
      "+------+---------------------+----------------------+----------------------+\n",
      "| L(0) | 0.41144547089850303 | 0.022487083137623296 | 0.024021486555813744 |\n",
      "+------+---------------------+----------------------+----------------------+\n",
      "| L(1) | 0.588554529101497   | 0.5127407233442931   | 0.10082385249117301  |\n",
      "+------+---------------------+----------------------+----------------------+\n",
      "| L(2) | 0.0                 | 0.4400833724753405   | 0.5964329903129433   |\n",
      "+------+---------------------+----------------------+----------------------+\n",
      "| L(3) | 0.0                 | 0.024688821042743073 | 0.27872167064007003  |\n",
      "+------+---------------------+----------------------+----------------------+\n"
     ]
    }
   ],
   "source": [
    "print(model.get_cpds('L'))"
   ]
  },
  {
   "cell_type": "markdown",
   "metadata": {},
   "source": [
    "2. Estimate the parameters of the model using the Bayesian estimator with Dirichlet priors with equal assignment (equivalent sample size of $\\alpha=1, 10, 100, 1000$) over all possible assignments of the CPDs."
   ]
  },
  {
   "cell_type": "code",
   "execution_count": 26,
   "metadata": {},
   "outputs": [],
   "source": [
    "model = BayesianModel([('T','W'),('T','L')])"
   ]
  },
  {
   "cell_type": "code",
   "execution_count": 11,
   "metadata": {},
   "outputs": [],
   "source": [
    "#Creating Samples for L \n",
    "L = {}\n",
    "size_samples = [1,10,100,1000]\n",
    "for i in size_samples:\n",
    "    L[\"sample\" + str(i)] = df.sample(n=i,random_state=1)"
   ]
  },
  {
   "cell_type": "code",
   "execution_count": 12,
   "metadata": {},
   "outputs": [],
   "source": [
    "cpds_L = {}\n",
    "for key, val in zip(L.keys(), L.values()):\n",
    "    try:\n",
    "        estimator = BayesianEstimator(model=model,data=val)\n",
    "        cpds_L[\"cpds_L_\" + str(key)] = estimator.estimate_cpd('L',\n",
    "                                        prior_type=\"dirichlet\",\n",
    "                                        pseudo_counts=[[1,1,1],\n",
    "                                                       [1,1,1],\n",
    "                                                       [1,1,1],\n",
    "                                                       [1,1,1]])\n",
    "    except:\n",
    "        pass "
   ]
  },
  {
   "cell_type": "code",
   "execution_count": 13,
   "metadata": {},
   "outputs": [],
   "source": [
    "CL = list(cpds_L.values())\n",
    "CLN = list(cpds_L.keys())"
   ]
  },
  {
   "cell_type": "code",
   "execution_count": 15,
   "metadata": {},
   "outputs": [
    {
     "name": "stdout",
     "output_type": "stream",
     "text": [
      "cpds_L_sample1000 \n",
      " +------+-----------------------+----------------------+----------+\n",
      "| T    | T(0)                  | T(1)                 | T(2)     |\n",
      "+------+-----------------------+----------------------+----------+\n",
      "| L(0) | 0.4388059701492537    | 0.0392156862745098   | 0.04375  |\n",
      "+------+-----------------------+----------------------+----------+\n",
      "| L(1) | 0.5552238805970149    | 0.5462184873949579   | 0.096875 |\n",
      "+------+-----------------------+----------------------+----------+\n",
      "| L(2) | 0.0029850746268656717 | 0.40336134453781514  | 0.55625  |\n",
      "+------+-----------------------+----------------------+----------+\n",
      "| L(3) | 0.0029850746268656717 | 0.011204481792717087 | 0.303125 |\n",
      "+------+-----------------------+----------------------+----------+\n"
     ]
    }
   ],
   "source": [
    "print(CLN[2],'\\n', CL[2])"
   ]
  },
  {
   "cell_type": "code",
   "execution_count": 16,
   "metadata": {},
   "outputs": [],
   "source": [
    "#Creating Samples for W \n",
    "W = {}\n",
    "for i in size_samples:\n",
    "    W[\"sample\" + str(i)] = df.sample(n=i,random_state=1)\n",
    "#W=list(W.values())"
   ]
  },
  {
   "cell_type": "code",
   "execution_count": 17,
   "metadata": {},
   "outputs": [],
   "source": [
    "cpds_W = {}\n",
    "for key, val in zip(W.keys(), W.values()):\n",
    "    try:\n",
    "        estimator = BayesianEstimator(model=model,data=val)\n",
    "        cpds_W[\"cpds_W_\" + str(key)] = estimator.estimate_cpd('W',\n",
    "                                        prior_type=\"dirichlet\",\n",
    "                                        pseudo_counts=[[1,1,1],\n",
    "                                                       [1,1,1],\n",
    "                                                       [1,1,1]])\n",
    "    except:\n",
    "        pass "
   ]
  },
  {
   "cell_type": "code",
   "execution_count": 18,
   "metadata": {},
   "outputs": [],
   "source": [
    "CW = list(cpds_W.values())\n",
    "CWN = list(cpds_W.keys())"
   ]
  },
  {
   "cell_type": "code",
   "execution_count": 21,
   "metadata": {},
   "outputs": [
    {
     "name": "stdout",
     "output_type": "stream",
     "text": [
      "cpds_W_sample1000 \n",
      " +------+----------------------+-----------------------+----------------------+\n",
      "| T    | T(0)                 | T(1)                  | T(2)                 |\n",
      "+------+----------------------+-----------------------+----------------------+\n",
      "| W(0) | 0.029940119760479042 | 0.7752808988764045    | 0.438871473354232    |\n",
      "+------+----------------------+-----------------------+----------------------+\n",
      "| W(1) | 0.8772455089820359   | 0.22191011235955055   | 0.5579937304075235   |\n",
      "+------+----------------------+-----------------------+----------------------+\n",
      "| W(2) | 0.09281437125748503  | 0.0028089887640449437 | 0.003134796238244514 |\n",
      "+------+----------------------+-----------------------+----------------------+\n"
     ]
    }
   ],
   "source": [
    "print(CWN[1],'\\n', CW[1])"
   ]
  },
  {
   "cell_type": "markdown",
   "metadata": {},
   "source": [
    "3. Assume that you are not given the variable Type (T).\n",
    "  - Find the MAP assignment for the variable T given the others, for the model with parameters estimated via MLE.\n",
    "  - Find the MAP assignment for the variable T given the others, for the model with parameters estimated via Bayesian estimator (equivalent sample size of $\\alpha=1, 10, 100, 1000$).\n",
    "  - Which model predicts T better?"
   ]
  },
  {
   "cell_type": "code",
   "execution_count": 56,
   "metadata": {},
   "outputs": [],
   "source": [
    "X_train, X_test, y_train, y_test = train_test_split(df.iloc[:,1:],df.iloc[:,0], test_size=0.2, random_state=764)"
   ]
  },
  {
   "cell_type": "code",
   "execution_count": 57,
   "metadata": {},
   "outputs": [
    {
     "data": {
      "text/html": [
       "<div>\n",
       "<style scoped>\n",
       "    .dataframe tbody tr th:only-of-type {\n",
       "        vertical-align: middle;\n",
       "    }\n",
       "\n",
       "    .dataframe tbody tr th {\n",
       "        vertical-align: top;\n",
       "    }\n",
       "\n",
       "    .dataframe thead th {\n",
       "        text-align: right;\n",
       "    }\n",
       "</style>\n",
       "<table border=\"1\" class=\"dataframe\">\n",
       "  <thead>\n",
       "    <tr style=\"text-align: right;\">\n",
       "      <th></th>\n",
       "      <th>L</th>\n",
       "      <th>W</th>\n",
       "      <th>T</th>\n",
       "    </tr>\n",
       "  </thead>\n",
       "  <tbody>\n",
       "    <tr>\n",
       "      <th>0</th>\n",
       "      <td>2</td>\n",
       "      <td>1</td>\n",
       "      <td>2</td>\n",
       "    </tr>\n",
       "    <tr>\n",
       "      <th>1</th>\n",
       "      <td>0</td>\n",
       "      <td>1</td>\n",
       "      <td>2</td>\n",
       "    </tr>\n",
       "    <tr>\n",
       "      <th>2</th>\n",
       "      <td>2</td>\n",
       "      <td>0</td>\n",
       "      <td>2</td>\n",
       "    </tr>\n",
       "    <tr>\n",
       "      <th>3</th>\n",
       "      <td>2</td>\n",
       "      <td>0</td>\n",
       "      <td>2</td>\n",
       "    </tr>\n",
       "    <tr>\n",
       "      <th>4</th>\n",
       "      <td>2</td>\n",
       "      <td>0</td>\n",
       "      <td>2</td>\n",
       "    </tr>\n",
       "  </tbody>\n",
       "</table>\n",
       "</div>"
      ],
      "text/plain": [
       "   L  W  T\n",
       "0  2  1  2\n",
       "1  0  1  2\n",
       "2  2  0  2\n",
       "3  2  0  2\n",
       "4  2  0  2"
      ]
     },
     "execution_count": 57,
     "metadata": {},
     "output_type": "execute_result"
    }
   ],
   "source": [
    "train=pd.DataFrame(X_train).join(y_train).copy()\n",
    "train.reset_index(drop=True, inplace=True)\n",
    "train.head()"
   ]
  },
  {
   "cell_type": "code",
   "execution_count": 58,
   "metadata": {},
   "outputs": [
    {
     "data": {
      "text/html": [
       "<div>\n",
       "<style scoped>\n",
       "    .dataframe tbody tr th:only-of-type {\n",
       "        vertical-align: middle;\n",
       "    }\n",
       "\n",
       "    .dataframe tbody tr th {\n",
       "        vertical-align: top;\n",
       "    }\n",
       "\n",
       "    .dataframe thead th {\n",
       "        text-align: right;\n",
       "    }\n",
       "</style>\n",
       "<table border=\"1\" class=\"dataframe\">\n",
       "  <thead>\n",
       "    <tr style=\"text-align: right;\">\n",
       "      <th></th>\n",
       "      <th>L</th>\n",
       "      <th>W</th>\n",
       "      <th>T</th>\n",
       "    </tr>\n",
       "  </thead>\n",
       "  <tbody>\n",
       "    <tr>\n",
       "      <th>0</th>\n",
       "      <td>2</td>\n",
       "      <td>1</td>\n",
       "      <td>1</td>\n",
       "    </tr>\n",
       "    <tr>\n",
       "      <th>1</th>\n",
       "      <td>2</td>\n",
       "      <td>1</td>\n",
       "      <td>2</td>\n",
       "    </tr>\n",
       "    <tr>\n",
       "      <th>2</th>\n",
       "      <td>3</td>\n",
       "      <td>1</td>\n",
       "      <td>2</td>\n",
       "    </tr>\n",
       "    <tr>\n",
       "      <th>3</th>\n",
       "      <td>2</td>\n",
       "      <td>0</td>\n",
       "      <td>2</td>\n",
       "    </tr>\n",
       "    <tr>\n",
       "      <th>4</th>\n",
       "      <td>1</td>\n",
       "      <td>0</td>\n",
       "      <td>1</td>\n",
       "    </tr>\n",
       "  </tbody>\n",
       "</table>\n",
       "</div>"
      ],
      "text/plain": [
       "   L  W  T\n",
       "0  2  1  1\n",
       "1  2  1  2\n",
       "2  3  1  2\n",
       "3  2  0  2\n",
       "4  1  0  1"
      ]
     },
     "execution_count": 58,
     "metadata": {},
     "output_type": "execute_result"
    }
   ],
   "source": [
    "test=pd.DataFrame(X_test).join(y_test).copy()\n",
    "test.reset_index(drop=True, inplace=True)\n",
    "test.head()"
   ]
  },
  {
   "cell_type": "markdown",
   "metadata": {},
   "source": [
    "## MODEL MLE"
   ]
  },
  {
   "cell_type": "code",
   "execution_count": 59,
   "metadata": {},
   "outputs": [
    {
     "name": "stderr",
     "output_type": "stream",
     "text": [
      "100%|██████████| 10/10 [00:00<00:00, 526.64it/s]\n",
      "              precision    recall  f1-score   support\n",
      "\n",
      "           0       0.80      0.98      0.88      6594\n",
      "           1       0.68      0.68      0.68      6871\n",
      "           2       0.79      0.61      0.69      6535\n",
      "\n",
      "    accuracy                           0.76     20000\n",
      "   macro avg       0.76      0.76      0.75     20000\n",
      "weighted avg       0.76      0.76      0.75     20000\n",
      "\n"
     ]
    }
   ],
   "source": [
    "model_MLE = BayesianModel([('T','W'),('T','L')])\n",
    "model_MLE.fit(data=train, estimator=MaximumLikelihoodEstimator)\n",
    "# Accuracy\n",
    "print(classification_report(y_test, model_MLE.predict(X_test)))"
   ]
  },
  {
   "cell_type": "markdown",
   "metadata": {},
   "source": [
    "## MODEL BAYESIAN ESTIMATOR "
   ]
  },
  {
   "cell_type": "markdown",
   "metadata": {},
   "source": [
    "- CPDS were built based on the sample size 1000 as it was closer to the real CPDS."
   ]
  },
  {
   "cell_type": "code",
   "execution_count": 60,
   "metadata": {},
   "outputs": [],
   "source": [
    "model_BE = BayesianModel([('T','W'),('T','L')])"
   ]
  },
  {
   "cell_type": "code",
   "execution_count": 61,
   "metadata": {},
   "outputs": [],
   "source": [
    "cpd_T = TabularCPD(variable='T', variable_card=3, values= [[0.33], [0.33], [0.34]])\n",
    "\n",
    "cpd_L = TabularCPD(variable='L', variable_card=4, values= [[0.43880597, 0.03921569, 0.04375   ],\n",
    "                                                                    [0.55522388, 0.54621849, 0.096875  ],\n",
    "                                                                    [0.00298507, 0.40336134, 0.55625   ],\n",
    "                                                                    [0.00298507, 0.01120448, 0.303125  ]],\n",
    "                                                                    evidence=['T'],\n",
    "                                                                    evidence_card=[3])\n",
    "\n",
    "cpd_W = TabularCPD(variable='W', variable_card=3, values= [[0.02994012, 0.7752809 , 0.43887147],\n",
    "                                                                    [0.87724551, 0.22191011, 0.55799373],\n",
    "                                                                    [0.09281437, 0.00280899, 0.0031348 ]],\n",
    "                                                                    evidence=['T'],\n",
    "                                                                    evidence_card=[3])"
   ]
  },
  {
   "cell_type": "code",
   "execution_count": 62,
   "metadata": {},
   "outputs": [],
   "source": [
    "model_BE.add_cpds(cpd_T, cpd_L, cpd_W)"
   ]
  },
  {
   "cell_type": "code",
   "execution_count": 63,
   "metadata": {},
   "outputs": [
    {
     "data": {
      "text/plain": [
       "True"
      ]
     },
     "execution_count": 63,
     "metadata": {},
     "output_type": "execute_result"
    }
   ],
   "source": [
    "model_BE.check_model()"
   ]
  },
  {
   "cell_type": "code",
   "execution_count": 64,
   "metadata": {},
   "outputs": [
    {
     "name": "stderr",
     "output_type": "stream",
     "text": [
      "100%|██████████| 10/10 [00:00<00:00, 3985.47it/s]\n",
      "              precision    recall  f1-score   support\n",
      "\n",
      "           0       0.80      0.98      0.88      6594\n",
      "           1       0.68      0.68      0.68      6871\n",
      "           2       0.79      0.61      0.69      6535\n",
      "\n",
      "    accuracy                           0.76     20000\n",
      "   macro avg       0.76      0.76      0.75     20000\n",
      "weighted avg       0.76      0.76      0.75     20000\n",
      "\n"
     ]
    }
   ],
   "source": [
    "# Accuracy\n",
    "print(classification_report(y_test, model_BE.predict(X_test)))"
   ]
  },
  {
   "cell_type": "markdown",
   "metadata": {},
   "source": [
    "### Both models perform equally good, with a 76% accuracy. "
   ]
  }
 ],
 "metadata": {
  "kernelspec": {
   "display_name": "Python 3",
   "language": "python",
   "name": "python3"
  },
  "language_info": {
   "codemirror_mode": {
    "name": "ipython",
    "version": 3
   },
   "file_extension": ".py",
   "mimetype": "text/x-python",
   "name": "python",
   "nbconvert_exporter": "python",
   "pygments_lexer": "ipython3",
   "version": "3.7.9"
  }
 },
 "nbformat": 4,
 "nbformat_minor": 4
}
