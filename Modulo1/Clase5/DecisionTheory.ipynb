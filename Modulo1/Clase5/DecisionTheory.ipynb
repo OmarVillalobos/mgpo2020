{
 "cells": [
  {
   "cell_type": "markdown",
   "metadata": {},
   "source": [
    "# Introduction to Decision Theory using Probabilistic Graphical Models\n",
    "\n",
    "<img style=\"float: right; margin: 0px 0px 15px 15px;\" src=\"https://upload.wikimedia.org/wikipedia/commons/b/bb/Risk_aversion_curve.jpg\" width=\"400px\" height=\"300px\" />\n",
    "\n",
    "> So far, we have seen that probabilistic graphical models are useful for modeling situations that involve uncertainty. Furthermore, we will see in the next module how using inference algorithms we will also reach conclusions abount the current situation from partial evidence: predictions.\n",
    "> \n",
    "> On the other hand, we do not only want to obtain these conclusions (predictions), but actually make decisions on top of these conclusions.\n",
    ">\n",
    "> It turns out that we can actually use probabilistic graphical models to encode not only the uncertain situations, but also the decision making agents with all the policies they are allowed to implement and the possible utilities that one may obtain.\n",
    "\n",
    "> **Objetives:**\n",
    "> - To learn how to represent decision situations using PGMs.\n",
    "> - To understand the maximum expected utility principle.\n",
    "> - To learn how to measure the value of information when making a decision.\n",
    "\n",
    "> **References:**\n",
    "> - Probabilistic Graphical Models: Principles and Techniques, By Daphne Koller and Nir Friedman. Ch. 22.\n",
    "> - Probabilistic Graphical Models Specialization, offered through Coursera. Prof. Daphne Koller.\n",
    "\n",
    "\n",
    "<p style=\"text-align:right;\"> Imagen recuperada de: https://upload.wikimedia.org/wikipedia/commons/b/bb/Risk_aversion_curve.jpg.</p>\n",
    "\n",
    "___"
   ]
  },
  {
   "cell_type": "markdown",
   "metadata": {},
   "source": [
    "# 1. Maximizing Expected Utility"
   ]
  },
  {
   "cell_type": "markdown",
   "metadata": {},
   "source": [
    "The theoretical foundations of decision theory were established long befor probabilistic graphical models came to live. The framework of *maximum expected utility* allows to formulate and solve decision problems that involve uncertainty.\n",
    "\n",
    "Before continuing, we should be clear that the **utility** is a numerical function that assigns numbers to the various possible outcomes, encoding the preferences of the agent. These numbers:\n",
    "\n",
    "- Do not have meanings in themselves.\n",
    "- We only know that the larger, the better, according to the preferences of the agent.\n",
    "- Usually, we compare the utility of two outcomes by means of the $\\Delta U$, which represents the strength of the \"happiness\" change from an outcome w.r.t. the other."
   ]
  },
  {
   "cell_type": "markdown",
   "metadata": {},
   "source": [
    "The outcomes we were talking about above can vary along *multiple dimensions*. One of those dimensions is often the monetary gain, but most of the settings consider other dimensions as well."
   ]
  },
  {
   "cell_type": "markdown",
   "metadata": {},
   "source": [
    "## 1.1. Problem formulation and maximum expected utility principle\n",
    "\n",
    "A simple **decision making situation** $\\mathcal{D}$ is defined by:\n",
    "\n",
    "- A set of possible actions $A$, with $\\mathrm{Val}(A)=\\{a_1, \\dots, a_k\\}$.\n",
    "- A set of possible states $\\bar{X}$, with $\\mathrm{Val}(\\bar{X})=\\{\\bar{x}_1, \\dots, \\bar{x}_k\\}$.\n",
    "- A conditional distribution $P(\\bar{X}|A)$.\n",
    "- A utility function $U(\\bar{X}, A)$, which expresses the agent's preferences.\n",
    "\n",
    "The **expected utility** on the above decision making situation, given that $A=a$,  is\n",
    "\n",
    "$$EU[\\mathcal{D}[a]] = \\sum_{\\bar{X}}P(\\bar{X}|a)U(\\bar{X},a).$$\n",
    "\n",
    "Furthermore, the **maximum expected utility (MEU)** principle states that we should choose the action that maximizes the expected utility\n",
    "\n",
    "$$a^\\ast = \\arg\\max_{a\\in\\mathrm{Val}(A)} EU[\\mathcal{D}[a]].$$"
   ]
  },
  {
   "cell_type": "markdown",
   "metadata": {},
   "source": [
    "**How can we represent the above using PGMs?**\n",
    "\n",
    "We can use the ideas we developed for PGMs to represent the decision making situations in a very interpretable way.\n",
    "\n",
    "In this sense, we have:\n",
    "- Random variables are represented by *ovals* and stand for the state.\n",
    "- Actions are represented by *rectangles*.\n",
    "- Utilities are represented by *diamonds*. These have no children.\n",
    "\n",
    "**Example.** Consider the decision situation $\\mathcal{D}$ where a graduate of the Master's Degree in Data Science is deciding whether to found a Data Science consultancy company or not.\n",
    "\n",
    "While this person does not exactly know which will be the demand of consultancy services, he/she knows that the demand will be either:\n",
    "- $m^0$: nonexistent, with probability $0.5$;\n",
    "- $m^1$: moderate, with probability $0.3$;\n",
    "- $m^2$: high, with probability $0.2$.\n",
    "\n",
    "Moreover, he/she will obtain a utility $U(M, f^0)=0$ for $M=m^0, m^1, m^2$ in the case that he/she doesn't found the company, or the following utilities in the case that he/she found the company:\n",
    "- $U(m^0, f^1)=-7$;\n",
    "- $U(m^1, f^1)=5$;\n",
    "- $U(m^2, f^1)=20$.\n",
    "\n",
    "Let's represent the graphical model corresponding to this situation:"
   ]
  },
  {
   "cell_type": "code",
   "execution_count": null,
   "metadata": {},
   "outputs": [],
   "source": [
    "from IPython.display import Image"
   ]
  },
  {
   "cell_type": "code",
   "execution_count": null,
   "metadata": {},
   "outputs": [],
   "source": [
    "# First draw in the white board, then show (first_representation)\n"
   ]
  },
  {
   "cell_type": "markdown",
   "metadata": {},
   "source": [
    "Then, according to this:\n",
    "\n",
    "- What are the expected utilities for each action?\n",
    "  - $E[\\mathcal{D}[f^0]]=%0$\n",
    "  - $E[\\mathcal{D}[f^1]]=%0.5 \\times -7 + 0.3 \\times 5 + 0.2 \\times 20=2.$\n",
    "  \n",
    "- Which is the optimal action?\n",
    "  - ."
   ]
  },
  {
   "cell_type": "markdown",
   "metadata": {},
   "source": [
    "With `pgmpy`:"
   ]
  },
  {
   "cell_type": "code",
   "execution_count": null,
   "metadata": {},
   "outputs": [],
   "source": [
    "# Import pgmpy.factors.discrete.DiscreteFactor\n"
   ]
  },
  {
   "cell_type": "code",
   "execution_count": null,
   "metadata": {},
   "outputs": [],
   "source": [
    "# Define factors P(M), U(M,F)\n"
   ]
  },
  {
   "cell_type": "code",
   "execution_count": null,
   "metadata": {},
   "outputs": [],
   "source": [
    "# Find Expected Utility\n"
   ]
  },
  {
   "cell_type": "markdown",
   "metadata": {},
   "source": [
    "**Multiple utility nodes**\n",
    "\n",
    "In the above example, we only had one utility node. However, we may include as many utility nodes as wanted to reduce the number of parameters:"
   ]
  },
  {
   "cell_type": "code",
   "execution_count": null,
   "metadata": {},
   "outputs": [],
   "source": [
    "Image(\"figures/student_utility.png\")"
   ]
  },
  {
   "cell_type": "markdown",
   "metadata": {},
   "source": [
    "Where:\n",
    "- $V_G$: Happiness with the grade itself.\n",
    "- $V_Q$: Quality of life during studies.\n",
    "- $V_S$: Value of getting a good job.\n",
    "\n",
    "The total utility can be formulated as:\n",
    "\n",
    "$$U=V_G+V_Q+V_S.$$\n",
    "\n",
    "*Question.* If $|\\mathrm{Val}(D)| = 2$, $|\\mathrm{Val}(S)| = 2$, $|\\mathrm{Val}(G)| = 3$, and $|\\mathrm{Val}(J)| = 2$, how many parameters do you need to completely specify the utility?\n",
    "\n",
    "- .\n",
    "\n",
    "*Question.* How many if the utility weren't decomposed?\n",
    "\n",
    "- ."
   ]
  },
  {
   "cell_type": "markdown",
   "metadata": {},
   "source": [
    "## 1.2. Information edges and decision rules\n",
    "\n",
    "The influence diagrams we have depicted above, also allow us to capture the notion of information available to the agent when they make their decision.\n",
    "\n",
    "**Example.** In the example of the Master's graduate deciding founding or not founding his company, let's assume that he/she has the opportunity to carry out a survey to measure the overall market demand for Data Science consultancy before making the decision.\n",
    "\n",
    "In this sense, the graph now looks like the following:"
   ]
  },
  {
   "cell_type": "code",
   "execution_count": null,
   "metadata": {},
   "outputs": [],
   "source": [
    "# First draw in the white board, then show (second_representation)\n"
   ]
  },
  {
   "cell_type": "markdown",
   "metadata": {},
   "source": [
    "Hence, the agent can make its decision depending on the value of the survey, which is denoted by the precense of the edge.\n",
    "\n",
    "Formally,\n",
    "\n",
    "> *Definition.* A **decision rule** $\\delta_A$ at an action node $A$ is a conditional probability $P(A|\\mathrm{Pa}A)$ (a function that maps each instatiation of $\\mathrm{Pa}A$  to a probability distribution $\\delta_A$ over $\\mathrm{Val}(A)$)."
   ]
  },
  {
   "cell_type": "markdown",
   "metadata": {},
   "source": [
    "Given the above, **what is the expected utility with information?**\n",
    "\n",
    "Following the same sort of ideas we get that\n",
    "\n",
    "$$EU[\\mathcal{D}[\\delta_A]] = \\sum_{\\bar{X}, A}P_{\\delta_A}(\\bar{X},A)U(\\bar{X},A),$$\n",
    "\n",
    "where $P_{\\delta_A}(\\bar{X},A)$ is the joint probability distribution over $\\bar{X}$ and $A$. The subindex $\\delta_A$ makes reference that this joind distribution depends on the selection of the decision rule $\\delta_A$."
   ]
  },
  {
   "cell_type": "markdown",
   "metadata": {},
   "source": [
    "Now, following the MEU, the optimal decision rule is:\n",
    "\n",
    "$$\\delta_A^\\ast = \\arg \\max_{\\delta_A} EU[\\mathcal{D}[\\delta_A]],$$\n",
    "\n",
    "and the MEU is\n",
    "\n",
    "$$MEU(\\mathcal{D}) = \\max_{\\delta_A} EU[\\mathcal{D}[\\delta_A]].$$"
   ]
  },
  {
   "cell_type": "markdown",
   "metadata": {},
   "source": [
    "**How can we find optimal decision rules?**\n",
    "\n",
    "In our entrepreneur example, we have that \n",
    "\n",
    "\\begin{align}\n",
    "EU[\\mathcal{D}[\\delta_A]] &= \\sum_{\\bar{X}, A}P_{\\delta_A}(\\bar{X},A)U(\\bar{X},A) \\\\\n",
    "%& = \\sum_{M,S,F} P(M)P(S|M) \\delta_F(F|S) U(M,F)\\\\\n",
    "%& = \\sum_{S,F} \\delta_F(F|S) \\sum_M P(M)P(S|M)U(M,F)\\\\\n",
    "%& = \\sum_{S,F} \\delta_F(F|S) \\mu(S,F)\n",
    "\\end{align}\n",
    "\n",
    "(see in the whiteboard, then show equations)"
   ]
  },
  {
   "cell_type": "markdown",
   "metadata": {},
   "source": [
    "Thus, let's calculate $\\mu(S,F)$ using `pgmpy`:"
   ]
  },
  {
   "cell_type": "code",
   "execution_count": null,
   "metadata": {},
   "outputs": [],
   "source": [
    "# We already have P(M), and U(F,M). Define P(S|M)\n"
   ]
  },
  {
   "cell_type": "code",
   "execution_count": null,
   "metadata": {},
   "outputs": [],
   "source": [
    "# Compute mu(F,S)\n"
   ]
  },
  {
   "cell_type": "code",
   "execution_count": null,
   "metadata": {},
   "outputs": [],
   "source": [
    "# Print mu(F,S)\n"
   ]
  },
  {
   "cell_type": "markdown",
   "metadata": {},
   "source": [
    "Following the MEU principle, we should select for each state (the Survey, in this case) the action that maximizes $\\mu$.\n",
    "\n",
    "In this case:"
   ]
  },
  {
   "cell_type": "code",
   "execution_count": null,
   "metadata": {},
   "outputs": [],
   "source": [
    "Image(\"figures/table.png\")"
   ]
  },
  {
   "cell_type": "markdown",
   "metadata": {},
   "source": [
    "Finally,\n",
    "\n",
    "$$MEU[\\mathcal{D}] = \\sum_{S,F} \\delta_F^\\ast(F|S) \\mu(S,F) = 0 + 1.15 + 2.1 = 3.25$$"
   ]
  },
  {
   "cell_type": "code",
   "execution_count": null,
   "metadata": {},
   "outputs": [],
   "source": [
    "# Define optimal decision rule\n"
   ]
  },
  {
   "cell_type": "code",
   "execution_count": null,
   "metadata": {},
   "outputs": [],
   "source": [
    "# Obtain MEU\n"
   ]
  },
  {
   "cell_type": "markdown",
   "metadata": {},
   "source": [
    "Without this observation the MEU was 2, and now the MEU has increased more than 50%.\n",
    "\n",
    "Nice, huh?"
   ]
  },
  {
   "cell_type": "markdown",
   "metadata": {},
   "source": [
    "___\n",
    "# 2. Utility functions\n",
    "\n",
    "\n",
    "## 2.1. Utility of money\n",
    "We have used utility functions in all the first section assuming that they were known. In this section we study these functions in more detail.\n",
    "\n",
    "**Utility functions** are a necessary tool that enables us to compare complex scenarios that involve uncertainty or risk.\n",
    "\n",
    "The first thing that we should understand is that utility is not the same as expected payoff.\n",
    "\n",
    "**Example.** An investor must decide between a participation in company A, where he would earn $\\$3$ million without risk, and a participation in company B, where he would earn $\\$4$ million with probability 0.8 and $\\$0$ with probability 0.2."
   ]
  },
  {
   "cell_type": "code",
   "execution_count": null,
   "metadata": {},
   "outputs": [],
   "source": [
    "Image(\"figures/utility_first.png\")"
   ]
  },
  {
   "cell_type": "markdown",
   "metadata": {},
   "source": [
    "Which one do you prefer?\n",
    "  - .\n",
    "\n",
    "What is the expected payof of the company A?\n",
    "  - .\n",
    "  \n",
    "What is the expected payof of the company B?\n",
    "  - ."
   ]
  },
  {
   "cell_type": "markdown",
   "metadata": {},
   "source": [
    "**Example.**\n",
    "\n",
    "Another common example that reflects this fact is the well-known St. Petersburg Paradox:\n",
    "\n",
    "- A fair coin is tossed repeatedly until it comes up Heads.\n",
    "- Each toss that it doesn't come up Heads, the payoff is doubled.\n",
    "- In this sense, if the coin comes up Heads in the $n$-th toss, then the payoff will be $\\$2^n$.\n",
    "\n",
    "How much are you willing to pay to enter to this game?\n",
    "- ."
   ]
  },
  {
   "cell_type": "markdown",
   "metadata": {},
   "source": [
    "What happens is that if we compute the expected payoff it is:\n",
    "\n",
    "- $P(\\text{comes up Heads in } n-\\text{th toss}) = \\frac{1}{2^n}$\n",
    "\n",
    "$$E[\\text{Payoff}] = \\sum_{n=1}^{\\infty}P(\\text{comes up Heads in } n-\\text{th toss}) \\text{Payoff}(n)% = \\sum_{n=1}^{\\infty} \\frac{1}{2^n} 2^n = \\sum_{n=1}^{\\infty} 1 = \\infty.$$"
   ]
  },
  {
   "cell_type": "markdown",
   "metadata": {},
   "source": [
    "With these two examples, we have shown that almost always people do not always choose to maximize their monetary gain. What this implies is that the utility of money is not the money itself.\n",
    "\n",
    "In fact, at this point of the history and after several psychological studies, we know that utility functions of money for most people look like\n",
    "\n",
    "$$U(W) = \\alpha + \\beta \\log(W + \\gamma),$$\n",
    "\n",
    "which is a nice *concave* function.\n",
    "\n",
    "**How does this function look like?** (see in the whiteboard).\n",
    "\n",
    "**How does the actual form of the curve have to be the attitude towards risk?**"
   ]
  },
  {
   "cell_type": "markdown",
   "metadata": {},
   "source": [
    "## 2.2. Utility of multiple attributes\n",
    "\n",
    "All the attributes affecting the utility must be integrated into one utility function.\n",
    "\n",
    "This may be a difficult task, since we can enter into some complex fields, far beyond math, probability, and graphs.\n",
    "\n",
    "- For instance, how do we compare human life with money?\n",
    "  - A low cost airline is considering the decision of not to run mainteinance plans over the aircraft at every arrival.\n",
    "  - If you have car, you don't change the tires that often (every 3 months).\n",
    "  \n",
    "There have been several attempts to addres this problem:\n",
    "  - Micromorts: $\\frac{1}{10^6}$ chance of death.\n",
    "  - [QALY](https://en.wikipedia.org/wiki/Quality-adjusted_life_year)."
   ]
  },
  {
   "cell_type": "markdown",
   "metadata": {},
   "source": [
    "# 3. Value of perfect information\n",
    "\n",
    "We used influence diagrams to make decisions given a set of observations.\n",
    "\n",
    "Another type of question that may arise is **which observations sould I make before making a decision?**.\n",
    "\n",
    "- Initially one may think that the more information, the better (because information is power).\n",
    "- But the answer to this question is far from being that simple."
   ]
  },
  {
   "cell_type": "markdown",
   "metadata": {},
   "source": [
    "For instance:\n",
    "\n",
    "- In our entrepreneur example, we saw that including the information of the survey increased the MEU significatively. However, we did not take into account the costs of performing that survey. What if the cost of performing that survey makes the money gains of the company negative or too little?\n",
    "\n",
    "- Medical diagnosis relies on tests. Some of these tests are painful, risky and/or very expensive."
   ]
  },
  {
   "cell_type": "markdown",
   "metadata": {},
   "source": [
    "A notion that allows us to adress this question is the **Value of Perfect Information**.\n",
    "\n",
    "- The value of perfect information $\\mathrm{VPI}(A|\\bar{X})$ is the value (in utility units) of observing $\\bar{X}$ before choosing an action at the node $A$.\n",
    "\n",
    "- If $\\mathcal{D}$ is the original influence diagram, and\n",
    "\n",
    "- $\\mathcal{D}_{\\bar{X}\\to A}$ is the influence diagram with the edge(s) $\\bar{X}\\to A$, \n",
    "\n",
    "- then\n",
    "\n",
    "  $$\\mathrm{VPI}(A|\\bar{X}) = MEU(\\mathcal{D}_{\\bar{X}\\to A}) - MEU(\\mathcal{D}).$$"
   ]
  },
  {
   "cell_type": "markdown",
   "metadata": {},
   "source": [
    "In the entrepreneur example,\n",
    "\n",
    "$$\\mathrm{VPI}(F|S) = MEU(\\mathcal{D}_{S\\to F}) - MEU(\\mathcal{D})=3.25 - 2 = 1.25.$$"
   ]
  },
  {
   "cell_type": "markdown",
   "metadata": {},
   "source": [
    "> *Theorem.* The value of perfect information satisfies:\n",
    ">\n",
    "> (i) $\\mathrm{VPI}(A|\\bar{X})\\geq 0$.\n",
    "> \n",
    "> (ii) $\\mathrm{VPI}(A|\\bar{X})= 0$ if and only if the optimal decision rule for $\\mathcal{D}$ is also optimal for  $\\mathcal{D}_{\\bar{X}\\to A}$."
   ]
  },
  {
   "cell_type": "markdown",
   "metadata": {},
   "source": [
    "This theorem practically says that the information is valuable if and only if it changes the agent's decision at least in one case."
   ]
  },
  {
   "cell_type": "markdown",
   "metadata": {},
   "source": [
    "**Example.** Consider the case that you are interested in two job offers in two different companies. Furthermore, these two companies are startups and both are looking for funding, which highly depends on the organizational quality of the company.\n",
    "\n",
    "This situation can be modeled as:"
   ]
  },
  {
   "cell_type": "code",
   "execution_count": null,
   "metadata": {},
   "outputs": [],
   "source": [
    "Image(\"figures/vpi.png\")"
   ]
  },
  {
   "cell_type": "markdown",
   "metadata": {},
   "source": [
    "Let's find the MEU using `pgmpy`:"
   ]
  },
  {
   "cell_type": "code",
   "execution_count": null,
   "metadata": {},
   "outputs": [],
   "source": [
    "# Define factors\n"
   ]
  },
  {
   "cell_type": "code",
   "execution_count": null,
   "metadata": {},
   "outputs": [],
   "source": [
    "# Obtain Expected utility\n"
   ]
  },
  {
   "cell_type": "code",
   "execution_count": null,
   "metadata": {},
   "outputs": [],
   "source": [
    "# Print EU\n"
   ]
  },
  {
   "cell_type": "code",
   "execution_count": null,
   "metadata": {},
   "outputs": [],
   "source": [
    "# Obtain MEU(D)\n"
   ]
  },
  {
   "cell_type": "markdown",
   "metadata": {},
   "source": [
    "Now, let's say that a friend of yours already works in the Company 2, so he informs you about the organizational status of that company. What is the value of that information?"
   ]
  },
  {
   "cell_type": "code",
   "execution_count": null,
   "metadata": {},
   "outputs": [],
   "source": [
    "Image(\"figures/vpi2.png\")"
   ]
  },
  {
   "cell_type": "code",
   "execution_count": null,
   "metadata": {},
   "outputs": [],
   "source": [
    "# Obtain the factor mu(D, C2)\n"
   ]
  },
  {
   "cell_type": "code",
   "execution_count": null,
   "metadata": {},
   "outputs": [],
   "source": [
    "# Print\n"
   ]
  },
  {
   "cell_type": "code",
   "execution_count": null,
   "metadata": {},
   "outputs": [],
   "source": [
    "# Select optimal decision\n"
   ]
  },
  {
   "cell_type": "code",
   "execution_count": null,
   "metadata": {},
   "outputs": [],
   "source": [
    "# Obtain MEU(D_C2->D)\n"
   ]
  },
  {
   "cell_type": "code",
   "execution_count": null,
   "metadata": {},
   "outputs": [],
   "source": [
    "# Obtain VPI\n"
   ]
  },
  {
   "cell_type": "markdown",
   "metadata": {},
   "source": [
    "# Announcements\n",
    "\n",
    "## Exam of module 1 the next class."
   ]
  },
  {
   "cell_type": "markdown",
   "metadata": {},
   "source": [
    "<script>\n",
    "  $(document).ready(function(){\n",
    "    $('div.prompt').hide();\n",
    "    $('div.back-to-top').hide();\n",
    "    $('nav#menubar').hide();\n",
    "    $('.breadcrumb').hide();\n",
    "    $('.hidden-print').hide();\n",
    "  });\n",
    "</script>\n",
    "\n",
    "<footer id=\"attribution\" style=\"float:right; color:#808080; background:#fff;\">\n",
    "Created with Jupyter by Esteban Jiménez Rodríguez.\n",
    "</footer>"
   ]
  }
 ],
 "metadata": {
  "kernelspec": {
   "display_name": "Python 3",
   "language": "python",
   "name": "python3"
  },
  "language_info": {
   "codemirror_mode": {
    "name": "ipython",
    "version": 3
   },
   "file_extension": ".py",
   "mimetype": "text/x-python",
   "name": "python",
   "nbconvert_exporter": "python",
   "pygments_lexer": "ipython3",
   "version": "3.7.6"
  }
 },
 "nbformat": 4,
 "nbformat_minor": 4
}
