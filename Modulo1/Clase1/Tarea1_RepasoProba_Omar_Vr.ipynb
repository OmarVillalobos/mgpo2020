{
 "cells": [
  {
   "cell_type": "markdown",
   "metadata": {},
   "source": [
    "# Tarea 1. Repaso de teoría de probabilidad\n",
    "\n",
    "<img style=\"float: right; margin: 0px 0px 15px 15px;\" src=\"https://storage.needpix.com/rsynced_images/bayesian-2889576_1280.png\" width=\"200px\" height=\"180px\" />\n",
    "\n",
    "Esta constituye la primera tarea del curso. Las tareas están pensadas para que afiances los conocimientos vistos en clase, repases la clase y debas darle una segunda leida. Incluso revisar otro material.\n",
    "\n",
    "Esta primera tarea contiene ejercicios puramente teóricos para que repases conceptos muy básicos de teoría de probabilidad. Conforme vamos avanzando en el curso, también encontraremos ejercicios más orientados hacia la práctica.\n",
    "\n",
    "Para los ejercicios teóricos la orientación es que seas lo más explícit@ posible. Además, cuando se te pida demostrar, que tu exposición sea clara y te apoyes de la escritura matemática con $\\LaTeX$.\n",
    "\n",
    "Recuerda además que ante cualquier duda, me puedes contactar al correo esjimenezro@iteso.mx.\n",
    "\n",
    "<p style=\"text-align:right;\"> Imagen recuperada de: https://storage.needpix.com/rsynced_images/bayesian-2889576_1280.png.</p>\n",
    "\n",
    "___"
   ]
  },
  {
   "cell_type": "markdown",
   "metadata": {},
   "source": [
    "## 1. \n",
    "\n",
    "A partir de la propiedad de regla de la cadena, probar la siguiente proposición:\n",
    "\n",
    "> *Proposición.* (**Regla de la cadena**) Sean $\\alpha_1,\\dots,\\alpha_k$ eventos, con $k\\in\\mathbb{N}$. Entonces,\n",
    "> $$P(\\alpha_1\\cap\\dots\\cap\\alpha_k) = P(\\alpha_1)P(\\alpha_2|\\alpha_1)\\dots P(\\alpha_k|\\alpha_1, \\dots, \\alpha_k).$$"
   ]
  },
  {
   "cell_type": "markdown",
   "metadata": {},
   "source": [
    " DEMOSTRACIÓN 1 *\n",
    "\n",
    "> Sabemos que $P(A\\cap B) = P(B)P(A|B)$.\n",
    "\n",
    "\n",
    "> Si n= 2, entonces: $P(\\alpha_1\\cap\\alpha_2) = P(\\alpha_1)P(\\alpha_2|\\alpha_1)$.\n",
    "\n",
    "> Así mismo si $A = P(\\alpha_1\\cap\\dots\\cap\\alpha_{n-1})$, entonces $P(A)= P(\\alpha_1) p(\\alpha_2|\\alpha_1), \\dots,P(\\alpha_{n-1}|\\alpha_1\\cap\\dots\\cap\\alpha_{n-2})$\n",
    "\n",
    "> Por lo tanto, $P(A\\cap\\alpha_n) = P(\\alpha_n|A)P(A)$ donde $A = P(\\alpha_1\\cap\\dots\\cap\\alpha_{n-1})$, Y $P(A)= P(\\alpha_1) p(\\alpha_2|\\alpha_1), \\dots,P(\\alpha_{n-1}|\\alpha_1\\cap\\dots\\cap\\alpha_{n-2})$. \n",
    "\n",
    "> Sustituyendo: \n",
    "$P(\\alpha_1\\cap\\dots\\cap\\alpha_n) = P(\\alpha_1)P(\\alpha_2|\\alpha_1)\\dots P(\\alpha_n|\\alpha_1\\cap\\dots\\cap\\alpha_{n-1}).$"
   ]
  },
  {
   "cell_type": "markdown",
   "metadata": {},
   "source": [
    "## 2. \n",
    "\n",
    "A partir de la definición de independencia condicional, probar la siguiente proposición:\n",
    "\n",
    "> *Proposición.* $P$ satisface $(\\alpha \\perp \\beta | \\gamma)$ si y solo si $P(\\alpha \\cap \\beta | \\gamma) = P(\\alpha | \\gamma) P(\\beta | \\gamma).$"
   ]
  },
  {
   "cell_type": "markdown",
   "metadata": {},
   "source": [
    "* DEMOSTRACIÓN 2 *\n",
    "\n",
    "> Por definición $(\\alpha \\perp \\beta | \\gamma)$ si $(\\alpha|\\beta\\cap\\gamma)= P(\\alpha|\\gamma), o si P(\\beta\\cap\\gamma)=0$\n",
    "\n",
    "> * Caso Trivial * \n",
    "\n",
    "> $P(\\alpha\\cap\\gamma)=0$ entonces, $P(\\alpha\\cap\\beta\\cap\\gamma)=0$. Por lo tanto, 0=0\n",
    "\n",
    "\n",
    "> *Segundo Caso*\n",
    "\n",
    "> Si $P(\\beta\\cap\\gamma)\\neq 0$ Entonces, sabiendo que $B1 = (\\beta\\cap\\gamma)$\n",
    "\n",
    "> Tenemos que, $ P(\\alpha\\cap B1)= P(B1) P(\\alpha|B1)$ Sustituyendo B1, $P(\\alpha|\\beta\\cap\\gamma)P(\\beta\\cap\\gamma)$\n",
    "\n",
    "> Suponiendo que $(\\alpha\\perp\\beta|\\gamma) : P(\\alpha|\\beta\\cap\\gamma) = P(\\alpha|\\gamma)$\n",
    "\n",
    "> a) $P(\\alpha\\cap\\beta\\cap\\gamma) = P(\\alpha|\\gamma) P(\\beta\\cap\\gamma)$\n",
    "\n",
    "> b) $P(\\alpha\\cap\\beta|gamma) = P(\\alpha|\\gamma) P(\\beta|\\gamma)$\n",
    "\n",
    "> Suponiendo, $P(\\alpha\\cap\\beta|\\gamma) = P(\\alpha|\\gamma) P(\\beta|\\gamma)$\n",
    "\n",
    "> $P(\\alpha|\\beta\\cap\\gamma) = \\frac{P(\\alpha\\cap\\beta\\cap\\gamma)}{P(\\beta\\cap\\gamma)} = \\frac{P(\\alpha|\\gamma)P(\\beta\\cap\\gamma)}{P(\\beta\\cap\\gamma)}$\n",
    "\n",
    "\n",
    "> Sustituyendo la ec. anterior  $P(\\alpha | \\beta \\cap \\gamma)$ = $\\frac{P(\\alpha \\cap \\beta | \\gamma)}{P(\\beta \\cap \\gamma)}$\n",
    "\n",
    "> Se obvserva que  $P(\\alpha | \\beta \\cap \\gamma) P(\\beta \\cap \\gamma)$ = $P(\\alpha \\cap \\beta | \\gamma)$\n",
    "\n",
    "> Por lo tanto $P(\\alpha | \\gamma) P(\\beta \\cap \\gamma)$ = $P(\\alpha \\cap \\beta | \\gamma)$"
   ]
  },
  {
   "cell_type": "markdown",
   "metadata": {},
   "source": [
    "## 3.\n",
    "A partir de la definición de distribución de probabilidad, probar la siguiente proposición:\n",
    "\n",
    "> *Proposición.* Para cualquier distribución de probabilidad $P$ sobre $(\\Omega, \\mathcal{S})$, y cualquier par de eventos $\\alpha, \\beta \\in \\mathcal{S}$ se cumple que, si $\\alpha \\subset \\beta$ entonces $P(\\alpha) \\leq P (\\beta)$."
   ]
  },
  {
   "cell_type": "markdown",
   "metadata": {},
   "source": [
    "> $P(\\alpha) \\geq 0$ para todo $\\alpha \\in \\mathcal{S}$\n",
    "\n",
    "> $P(\\Omega)=1$\n",
    "\n",
    "> Si $\\alpha, \\beta \\in \\mathcal{S}$ and $\\alpha \\cap \\beta = 0 $ entonces $P(\\alpha \\cup \\beta)= P(\\alpha) + P(\\beta).$"
   ]
  },
  {
   "cell_type": "markdown",
   "metadata": {},
   "source": [
    "## 4.\n",
    "\n",
    "Considere dos eventos $\\alpha, \\beta$ tales que $P(\\alpha) = p_a$ y $P(\\beta) = p_b$.\n",
    "\n",
    "1. Calcule los valores máximo y mínimo que puede alcanzar $P(\\alpha \\cup \\beta)$.\n",
    "   - ¿En qué situaciones se alcanzan esos valores extremos?\n",
    "   \n",
    "2. Calcule los valores máximo y mínimo que puede alcanzar $P(\\alpha \\cap \\beta)$.\n",
    "   - ¿En qué situaciones se alcanzan esos valores extremos?"
   ]
  },
  {
   "cell_type": "markdown",
   "metadata": {},
   "source": [
    "* DEMOSTRACIÓN 4 *\n",
    "\n",
    "Respuesta 1 y 2 \n",
    "\n",
    "> Valor Máximo $P(\\Omega) - P(\\alpha \\cup \\beta) = 0$, $P(\\alpha \\cup \\beta)$\n",
    "\n",
    "> Valor Mínimo $P(\\Omega) - P(\\alpha \\cup \\beta) = 1$, $P(\\alpha \\cup \\beta)$"
   ]
  },
  {
   "cell_type": "markdown",
   "metadata": {},
   "source": [
    "## 5.\n",
    "\n",
    "Supongamos que una prueba para la COVID-19 tiene una precisión del 95%. Esto es, si el paciente está infectado, entonces el resultado de la prueba será positivo con probabilidad de 0.95, y si el paciente NO está infectado, el resutado de la prueba será negativo con probabilidad de 0.95.\n",
    "\n",
    "Ahora, suponga que una persona tuvo un resultado de prueba positivo.\n",
    "\n",
    "1. ¿Cuál es la probabilidad de que esta persona esté infectada en efecto?\n",
    "\n",
    "2. ¿Cuál es la probabilidad de que no esté infectada?"
   ]
  },
  {
   "cell_type": "markdown",
   "metadata": {},
   "source": [
    "1. P(Infectado|Positivo) = 0.95\n",
    "2. P(NoInfectado|Positivo) = 0.05"
   ]
  },
  {
   "cell_type": "markdown",
   "metadata": {},
   "source": [
    "# 6.\n",
    "\n",
    "A partir de la definición de independencia condicional en VA, pruebe cada una de las siguientes proposiciones:\n",
    "\n",
    "1. **Simetría**\n",
    "   $$(\\bar{X} \\perp \\bar{Y} | \\bar{Z}) \\Rightarrow (\\bar{Y} \\perp \\bar{X} | \\bar{Z}).$$\n",
    "   \n",
    "2. **Descomposición**\n",
    "   $$(\\bar{X} \\perp \\bar{Y}, \\bar{W} | \\bar{Z}) \\Rightarrow (\\bar{X} \\perp \\bar{Y} | \\bar{Z}).$$\n",
    "   \n",
    "3. **Unión débil**\n",
    "   $$(\\bar{X} \\perp \\bar{Y}, \\bar{W} | \\bar{Z}) \\Rightarrow (\\bar{X} \\perp \\bar{Y} | \\bar{Z}, \\bar{W}).$$\n",
    "   \n",
    "4. **Contracción**\n",
    "   $$(\\bar{X} \\perp \\bar{W} | \\bar{Z}, \\bar{Y}) \\& (\\bar{X} \\perp \\bar{Y} | \\bar{Z}) \\Rightarrow (\\bar{X} \\perp \\bar{Y}, \\bar{W} | \\bar{Z}).$$"
   ]
  },
  {
   "cell_type": "markdown",
   "metadata": {},
   "source": []
  },
  {
   "cell_type": "markdown",
   "metadata": {},
   "source": []
  },
  {
   "cell_type": "markdown",
   "metadata": {},
   "source": []
  },
  {
   "cell_type": "markdown",
   "metadata": {},
   "source": [
    "# 7.\n",
    "\n",
    "En clase no vimos conceptos importantes de las para describir VA, como lo son el **valor esperado** y **varianza**. Sin embargo, creo que todos están a tono con estos conceptos. Para no dejarlo al aire:\n",
    "\n",
    "> *Definición.* Sea $X$ una VA discreta que toma valores numéricos. El **valor esperado** de la VA $X$ bajo la distribución $P$ es\n",
    "> \n",
    "> $$E_P[X] = \\sum_{x} x P(X=x).$$\n",
    ">\n",
    "> La **varianza** de la VA $X$ bajo la distribución $P$ es\n",
    ">\n",
    "> $$Var_P[X] = E_P[(X - E_P[X])^2] = E_P[X^2] - (E_P[X])^2.$$"
   ]
  },
  {
   "cell_type": "markdown",
   "metadata": {},
   "source": [
    "Es común que haya cierta confusión en el significado del valor esperado. Un significado que le podemos dar a este valor, viene dado por la [ley de los grandes números](https://www.khanacademy.org/math/statistics-probability/random-variables-stats-library/expected-value-lib/v/law-of-large-numbers)."
   ]
  },
  {
   "cell_type": "markdown",
   "metadata": {},
   "source": [
    "Para convencerte de esto, en este ejercicio simularás la tirada de un dado justo:\n",
    "\n",
    "1. Definimos la VA $X$ como el valor que muestra el dado cuando cae, es decir $\\mathrm{Val}(X) = \\{1, 2, 3, 4, 5, 6\\}$.\n",
    "2. Como el dado es justo $P(X=i)=\\frac{1}{|\\mathrm{Val}(X)|}=\\frac{1}{6}$ para todo $i=1,\\dots,6$.\n",
    "\n",
    "¿Cuál es el valor esperado $E[X]$?"
   ]
  },
  {
   "cell_type": "code",
   "execution_count": 5,
   "metadata": {},
   "outputs": [
    {
     "data": {
      "text/plain": [
       "3.5"
      ]
     },
     "execution_count": 5,
     "metadata": {},
     "output_type": "execute_result"
    }
   ],
   "source": [
    "# Calcular el valor esperado teórico de la VA X\n",
    "import numpy as np\n",
    "dice = [1,2,3,4,5,6]\n",
    "np.mean(dice)"
   ]
  },
  {
   "cell_type": "markdown",
   "metadata": {},
   "source": [
    "Ahora, viene el paso de simulación. \n",
    "\n",
    "1. Vas a simular por lo menos 1000 veces la tirada del dado, guardando a cada tirada el resultado obtenido.\n",
    "\n",
    "2. Vas a calcular el valor promedio de los resultados *a cada tirada*. Es decir, si los resultados en las primeras $n$ tiradas son $x_1,\\dots,x_n$, el valor promedio en la tirada $n$ es\n",
    "\n",
    "   $$\\bar{x}_n = \\frac{x_1+\\dots+x_n}{n}.$$\n",
    "\n",
    "3. Finalmente, vas a graficar los valores promedio obtenidos a cada tirada (en el eje $y$) vs. el número de tiradas (en el eje $x$). Incluir el valor esperado teórico en la gráfica. ¿Qué observas?\n",
    "\n",
    "*Ayuda: apoyarse del modulo random de numpy. Para su nivel, espero que no incluyan ni un solo ciclo en su código.*"
   ]
  },
  {
   "cell_type": "code",
   "execution_count": 8,
   "metadata": {},
   "outputs": [],
   "source": [
    "import pandas as pd\n",
    "n = 1000\n",
    "data = pd.DataFrame(np.random.randint(1,7,n), columns = ['Tiradas'])"
   ]
  },
  {
   "cell_type": "code",
   "execution_count": 9,
   "metadata": {},
   "outputs": [],
   "source": [
    "data['avg'] = data['Tiradas'].expanding().mean()"
   ]
  },
  {
   "cell_type": "code",
   "execution_count": 10,
   "metadata": {},
   "outputs": [
    {
     "data": {
      "text/html": [
       "<div>\n",
       "<style scoped>\n",
       "    .dataframe tbody tr th:only-of-type {\n",
       "        vertical-align: middle;\n",
       "    }\n",
       "\n",
       "    .dataframe tbody tr th {\n",
       "        vertical-align: top;\n",
       "    }\n",
       "\n",
       "    .dataframe thead th {\n",
       "        text-align: right;\n",
       "    }\n",
       "</style>\n",
       "<table border=\"1\" class=\"dataframe\">\n",
       "  <thead>\n",
       "    <tr style=\"text-align: right;\">\n",
       "      <th></th>\n",
       "      <th>Tiradas</th>\n",
       "      <th>avg</th>\n",
       "    </tr>\n",
       "  </thead>\n",
       "  <tbody>\n",
       "    <tr>\n",
       "      <td>0</td>\n",
       "      <td>5</td>\n",
       "      <td>5.000000</td>\n",
       "    </tr>\n",
       "    <tr>\n",
       "      <td>1</td>\n",
       "      <td>2</td>\n",
       "      <td>3.500000</td>\n",
       "    </tr>\n",
       "    <tr>\n",
       "      <td>2</td>\n",
       "      <td>4</td>\n",
       "      <td>3.666667</td>\n",
       "    </tr>\n",
       "    <tr>\n",
       "      <td>3</td>\n",
       "      <td>1</td>\n",
       "      <td>3.000000</td>\n",
       "    </tr>\n",
       "    <tr>\n",
       "      <td>4</td>\n",
       "      <td>5</td>\n",
       "      <td>3.400000</td>\n",
       "    </tr>\n",
       "    <tr>\n",
       "      <td>...</td>\n",
       "      <td>...</td>\n",
       "      <td>...</td>\n",
       "    </tr>\n",
       "    <tr>\n",
       "      <td>995</td>\n",
       "      <td>3</td>\n",
       "      <td>3.512048</td>\n",
       "    </tr>\n",
       "    <tr>\n",
       "      <td>996</td>\n",
       "      <td>2</td>\n",
       "      <td>3.510532</td>\n",
       "    </tr>\n",
       "    <tr>\n",
       "      <td>997</td>\n",
       "      <td>5</td>\n",
       "      <td>3.512024</td>\n",
       "    </tr>\n",
       "    <tr>\n",
       "      <td>998</td>\n",
       "      <td>2</td>\n",
       "      <td>3.510511</td>\n",
       "    </tr>\n",
       "    <tr>\n",
       "      <td>999</td>\n",
       "      <td>6</td>\n",
       "      <td>3.513000</td>\n",
       "    </tr>\n",
       "  </tbody>\n",
       "</table>\n",
       "<p>1000 rows × 2 columns</p>\n",
       "</div>"
      ],
      "text/plain": [
       "     Tiradas       avg\n",
       "0          5  5.000000\n",
       "1          2  3.500000\n",
       "2          4  3.666667\n",
       "3          1  3.000000\n",
       "4          5  3.400000\n",
       "..       ...       ...\n",
       "995        3  3.512048\n",
       "996        2  3.510532\n",
       "997        5  3.512024\n",
       "998        2  3.510511\n",
       "999        6  3.513000\n",
       "\n",
       "[1000 rows x 2 columns]"
      ]
     },
     "execution_count": 10,
     "metadata": {},
     "output_type": "execute_result"
    }
   ],
   "source": [
    "data"
   ]
  },
  {
   "cell_type": "code",
   "execution_count": 11,
   "metadata": {},
   "outputs": [
    {
     "ename": "ModuleNotFoundError",
     "evalue": "No module named 'plotly'",
     "output_type": "error",
     "traceback": [
      "\u001b[1;31m---------------------------------------------------------------------------\u001b[0m",
      "\u001b[1;31mModuleNotFoundError\u001b[0m                       Traceback (most recent call last)",
      "\u001b[1;32m<ipython-input-11-4ef809b6ba38>\u001b[0m in \u001b[0;36m<module>\u001b[1;34m\u001b[0m\n\u001b[1;32m----> 1\u001b[1;33m \u001b[1;32mimport\u001b[0m \u001b[0mplotly\u001b[0m\u001b[1;33m.\u001b[0m\u001b[0mexpress\u001b[0m \u001b[1;32mas\u001b[0m \u001b[0mpx\u001b[0m\u001b[1;33m\u001b[0m\u001b[1;33m\u001b[0m\u001b[0m\n\u001b[0m\u001b[0;32m      2\u001b[0m \u001b[0mfig\u001b[0m \u001b[1;33m=\u001b[0m \u001b[0mpx\u001b[0m\u001b[1;33m.\u001b[0m\u001b[0mscatter\u001b[0m\u001b[1;33m(\u001b[0m\u001b[0mdata\u001b[0m\u001b[1;33m,\u001b[0m \u001b[0mx\u001b[0m\u001b[1;33m=\u001b[0m\u001b[0mdata\u001b[0m\u001b[1;33m.\u001b[0m\u001b[0mindex\u001b[0m\u001b[1;33m,\u001b[0m \u001b[0my\u001b[0m\u001b[1;33m=\u001b[0m\u001b[1;34m'avg'\u001b[0m\u001b[1;33m)\u001b[0m\u001b[1;33m\u001b[0m\u001b[1;33m\u001b[0m\u001b[0m\n",
      "\u001b[1;31mModuleNotFoundError\u001b[0m: No module named 'plotly'"
     ]
    }
   ],
   "source": [
    "import plotly.express as px\n",
    "fig = px.scatter(data, x=data.index, y='avg')\n",
    "fig.show()"
   ]
  },
  {
   "cell_type": "code",
   "execution_count": 1,
   "metadata": {},
   "outputs": [
    {
     "data": {
      "text/plain": [
       "'C:\\\\Users\\\\Omar\\\\Anaconda3'"
      ]
     },
     "execution_count": 1,
     "metadata": {},
     "output_type": "execute_result"
    }
   ],
   "source": [
    "import os\n",
    "import sys \n",
    "os.path.dirname(sys.executable)"
   ]
  },
  {
   "cell_type": "markdown",
   "metadata": {},
   "source": [
    "<script>\n",
    "  $(document).ready(function(){\n",
    "    $('div.prompt').hide();\n",
    "    $('div.back-to-top').hide();\n",
    "    $('nav#menubar').hide();\n",
    "    $('.breadcrumb').hide();\n",
    "    $('.hidden-print').hide();\n",
    "  });\n",
    "</script>\n",
    "\n",
    "<footer id=\"attribution\" style=\"float:right; color:#808080; background:#fff;\">\n",
    "Created with Jupyter by Esteban Jiménez Rodríguez.\n",
    "</footer>"
   ]
  }
 ],
 "metadata": {
  "kernelspec": {
   "display_name": "Python 3",
   "language": "python",
   "name": "python3"
  },
  "language_info": {
   "codemirror_mode": {
    "name": "ipython",
    "version": 3
   },
   "file_extension": ".py",
   "mimetype": "text/x-python",
   "name": "python",
   "nbconvert_exporter": "python",
   "pygments_lexer": "ipython3",
   "version": "3.7.5"
  }
 },
 "nbformat": 4,
 "nbformat_minor": 4
}
